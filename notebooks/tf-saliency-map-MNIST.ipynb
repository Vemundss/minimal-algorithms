{
 "cells": [
  {
   "cell_type": "code",
   "execution_count": 30,
   "metadata": {},
   "outputs": [
    {
     "name": "stdout",
     "output_type": "stream",
     "text": [
      "The autoreload extension is already loaded. To reload it, use:\n",
      "  %reload_ext autoreload\n"
     ]
    }
   ],
   "source": [
    "%load_ext autoreload\n",
    "%autoreload 2\n",
    "import matplotlib.pyplot as plt\n",
    "import numpy as np\n",
    "import tensorflow as tf\n",
    "from tensorflow.keras.layers import Dense, Flatten, Input, Conv2D\n",
    "import tqdm"
   ]
  },
  {
   "cell_type": "markdown",
   "metadata": {},
   "source": [
    "# Load mnist dataset"
   ]
  },
  {
   "cell_type": "code",
   "execution_count": 2,
   "metadata": {},
   "outputs": [],
   "source": [
    "(x_train, y_train), (x_test, y_test) = tf.keras.datasets.mnist.load_data()\n",
    "\n",
    "x_train, x_test = (\n",
    "    x_train[..., np.newaxis] / 255.0,\n",
    "    x_test[..., np.newaxis] / 255.0,\n",
    ")"
   ]
  },
  {
   "cell_type": "markdown",
   "metadata": {},
   "source": [
    "# Initialise and summarise the fully-CNN model"
   ]
  },
  {
   "cell_type": "code",
   "execution_count": null,
   "metadata": {},
   "outputs": [],
   "source": [
    "class SimpleNet(tf.keras.Model):\n",
    "    def __init__(self, out_dim, **kwargs):\n",
    "        super(SimpleNet, self).__init__(**kwargs)\n",
    "\n",
    "        # define network architecture\n",
    "        self.c1 = Conv2D(filters=16, kernel_size = (3,3), strides = (2,2),\n",
    "            use_bias=False, padding='same', activation='relu')\n",
    "        self.c2 = Conv2D(filters=32, kernel_size = (3,3), strides = (2,2),\n",
    "            use_bias=False, padding='same', activation='relu')\n",
    "        #self.dense = Dense(10)\n",
    "        self.dense = Conv2D(filters=out_dim, kernel_size=(7,7))\n",
    "        self.flatten = Flatten()\n",
    "\n",
    "    def call(self, inputs: tf.Tensor, softmax: bool = True):\n",
    "        X = self.c1(inputs)\n",
    "        X = self.c2(X)\n",
    "        X = self.dense(X)\n",
    "        X = self.flatten(X)\n",
    "        return tf.nn.softmax(X) if softmax else X"
   ]
  },
  {
   "cell_type": "code",
   "execution_count": 3,
   "metadata": {
    "scrolled": true
   },
   "outputs": [
    {
     "name": "stdout",
     "output_type": "stream",
     "text": [
      "Model: \"simple_net\"\n",
      "_________________________________________________________________\n",
      "Layer (type)                 Output Shape              Param #   \n",
      "=================================================================\n",
      "conv2d (Conv2D)              multiple                  144       \n",
      "_________________________________________________________________\n",
      "conv2d_1 (Conv2D)            multiple                  4608      \n",
      "_________________________________________________________________\n",
      "conv2d_2 (Conv2D)            multiple                  15690     \n",
      "_________________________________________________________________\n",
      "flatten (Flatten)            multiple                  0         \n",
      "=================================================================\n",
      "Total params: 20,442\n",
      "Trainable params: 20,442\n",
      "Non-trainable params: 0\n",
      "_________________________________________________________________\n"
     ]
    }
   ],
   "source": [
    "model = SimpleNet(out_dim=10)\n",
    "model.compile(\n",
    "    optimizer=tf.keras.optimizers.RMSprop(),\n",
    "    loss=tf.keras.losses.SparseCategoricalCrossentropy(),\n",
    "    metrics=[tf.keras.metrics.SparseCategoricalAccuracy()],\n",
    ")\n",
    "\n",
    "# Build (by specifying input_shape) and summarize model\n",
    "mb_size = 32\n",
    "input_shape = [mb_size] + list(x_train.shape[1:])\n",
    "model.build(input_shape)\n",
    "model.summary()"
   ]
  },
  {
   "cell_type": "markdown",
   "metadata": {},
   "source": [
    "# Train model"
   ]
  },
  {
   "cell_type": "code",
   "execution_count": 4,
   "metadata": {},
   "outputs": [
    {
     "name": "stdout",
     "output_type": "stream",
     "text": [
      "Epoch 1/5\n",
      "1875/1875 [==============================] - 8s 4ms/step - loss: 0.4500 - sparse_categorical_accuracy: 0.8732 - val_loss: 0.1056 - val_sparse_categorical_accuracy: 0.9663\n",
      "Epoch 2/5\n",
      "1875/1875 [==============================] - 8s 4ms/step - loss: 0.1036 - sparse_categorical_accuracy: 0.9697 - val_loss: 0.0684 - val_sparse_categorical_accuracy: 0.9795\n",
      "Epoch 3/5\n",
      "1875/1875 [==============================] - 9s 5ms/step - loss: 0.0759 - sparse_categorical_accuracy: 0.9781 - val_loss: 0.0584 - val_sparse_categorical_accuracy: 0.9810\n",
      "Epoch 4/5\n",
      "1875/1875 [==============================] - 7s 4ms/step - loss: 0.0657 - sparse_categorical_accuracy: 0.9809 - val_loss: 0.0595 - val_sparse_categorical_accuracy: 0.9824\n",
      "Epoch 5/5\n",
      "1875/1875 [==============================] - 7s 4ms/step - loss: 0.0516 - sparse_categorical_accuracy: 0.9855 - val_loss: 0.0548 - val_sparse_categorical_accuracy: 0.9810\n"
     ]
    },
    {
     "data": {
      "text/plain": [
       "<tensorflow.python.keras.callbacks.History at 0x7fd0ed752b50>"
      ]
     },
     "execution_count": 4,
     "metadata": {},
     "output_type": "execute_result"
    }
   ],
   "source": [
    "model.fit(x=x_train,y=y_train,batch_size=32,epochs=5,validation_data=(x_test, y_test),shuffle=True)"
   ]
  },
  {
   "cell_type": "markdown",
   "metadata": {},
   "source": [
    "\n",
    "# Make a prediction and calculate saliency map for an example input"
   ]
  },
  {
   "cell_type": "code",
   "execution_count": 5,
   "metadata": {},
   "outputs": [
    {
     "name": "stdout",
     "output_type": "stream",
     "text": [
      "[[0. 0. 0. 0. 0. 0. 0. 1. 0. 0.]]\n",
      "Target category: 7, Predicted category: 7 with score (pseudo-probability): 1.00\n"
     ]
    }
   ],
   "source": [
    "ind_exmp = 0\n",
    "pred = model(x_test[None,ind_exmp])\n",
    "target = y_test[ind_exmp]\n",
    "pred_cat = np.argmax(pred)\n",
    "\n",
    "score = pred.numpy()[0,pred_cat]\n",
    "print(np.around(pred.numpy(),decimals=2))\n",
    "print(\"Target category: {}, Predicted category: {} with score (pseudo-probability): {:.2f}\"\\\n",
    "      .format(target,pred_cat,score))"
   ]
  },
  {
   "cell_type": "code",
   "execution_count": 27,
   "metadata": {},
   "outputs": [
    {
     "name": "stdout",
     "output_type": "stream",
     "text": [
      "(1, 28, 28, 1) <class 'tensorflow.python.framework.ops.EagerTensor'>\n"
     ]
    }
   ],
   "source": [
    "idx = 100\n",
    "exmp_inp = tf.Variable(x_test[None,idx], dtype=float) # make tf.var so that grads can be recorded\n",
    "\n",
    "with tf.GradientTape() as tape:\n",
    "    pred = model(inputs=exmp_inp,softmax=False)\n",
    "    score = tf.reduce_max(pred)\n",
    "    #score = pred[0,tf.math.argmax(pred[0])]\n",
    "    \n",
    "grads = tape.gradient(score, exmp_inp)\n",
    "print(grads.shape, type(grads))"
   ]
  },
  {
   "cell_type": "code",
   "execution_count": 7,
   "metadata": {},
   "outputs": [
    {
     "data": {
      "text/plain": [
       "<matplotlib.colorbar.Colorbar at 0x7fd0edb0f490>"
      ]
     },
     "execution_count": 7,
     "metadata": {},
     "output_type": "execute_result"
    },
    {
     "data": {
      "image/png": "[encoded data removed]",
      "text/plain": [
       "<Figure size 432x288 with 2 Axes>"
      ]
     },
     "metadata": {
      "needs_background": "light"
     },
     "output_type": "display_data"
    }
   ],
   "source": [
    "plt.imshow(x_test[idx, :, :, 0])#,cmap='gray')\n",
    "plt.colorbar()"
   ]
  },
  {
   "cell_type": "code",
   "execution_count": 8,
   "metadata": {
    "scrolled": true
   },
   "outputs": [
    {
     "data": {
      "text/plain": [
       "<matplotlib.colorbar.Colorbar at 0x7fd0ee9cfd90>"
      ]
     },
     "execution_count": 8,
     "metadata": {},
     "output_type": "execute_result"
    },
    {
     "data": {
      "image/png": "[encoded data removed]",
      "text/plain": [
       "<Figure size 432x288 with 2 Axes>"
      ]
     },
     "metadata": {
      "needs_background": "light"
     },
     "output_type": "display_data"
    }
   ],
   "source": [
    "grad_img = np.abs(grads.numpy()[0, :, :, 0])\n",
    "grad_img /= np.max(grad_img)\n",
    "plt.imshow(grad_img)#,cmap='gray')\n",
    "plt.colorbar()"
   ]
  },
  {
   "cell_type": "code",
   "execution_count": 9,
   "metadata": {},
   "outputs": [
    {
     "data": {
      "text/plain": [
       "<matplotlib.colorbar.Colorbar at 0x7fd0eeaee4d0>"
      ]
     },
     "execution_count": 9,
     "metadata": {},
     "output_type": "execute_result"
    },
    {
     "data": {
      "image/png": "[encoded data removed]",
      "text/plain": [
       "<Figure size 432x288 with 2 Axes>"
      ]
     },
     "metadata": {
      "needs_background": "light"
     },
     "output_type": "display_data"
    }
   ],
   "source": [
    "# hadamard product between input image and gradient image\n",
    "plt.imshow(grad_img*x_test[idx, :, :, 0])#,cmap='gray')\n",
    "plt.colorbar()"
   ]
  },
  {
   "cell_type": "markdown",
   "metadata": {},
   "source": [
    "# Aggregate saliency maps for all examples from a single class"
   ]
  },
  {
   "cell_type": "code",
   "execution_count": 10,
   "metadata": {},
   "outputs": [
    {
     "data": {
      "text/plain": [
       "((958, 28, 28, 1), (958,))"
      ]
     },
     "execution_count": 10,
     "metadata": {},
     "output_type": "execute_result"
    }
   ],
   "source": [
    "class_num = 6\n",
    "indecies = np.where(y_test==class_num)\n",
    "\n",
    "x_test_c, y_test_c = x_test[indecies], y_test[indecies]\n",
    "x_test_c.shape, y_test_c.shape"
   ]
  },
  {
   "cell_type": "code",
   "execution_count": 35,
   "metadata": {},
   "outputs": [
    {
     "name": "stderr",
     "output_type": "stream",
     "text": [
      "100%|██████████| 958/958 [00:04<00:00, 207.22it/s]"
     ]
    },
    {
     "name": "stdout",
     "output_type": "stream",
     "text": [
      "(958, 28, 28, 1)\n"
     ]
    },
    {
     "name": "stderr",
     "output_type": "stream",
     "text": [
      "\n"
     ]
    }
   ],
   "source": [
    "# Could not find a batch-wise tape gradient. This is prolly coz loss is usually aggregrated to one dimension\n",
    "# Result: have to backpropagate (wrt. input) for each input\n",
    "\n",
    "tot_grads=[]\n",
    "for i in tqdm.trange(x_test_c.shape[0]):\n",
    "    with tf.GradientTape() as tape:\n",
    "        tmp = tf.Variable(x_test_c[None,i], dtype=float)\n",
    "        pred = model(inputs=tmp,softmax=False)\n",
    "        score = tf.reduce_max(pred) # predicted class\n",
    "        #score = pred[class_num] # label class\n",
    "    \n",
    "    tot_grads.append(tape.gradient(score, tmp)[0])\n",
    "    \n",
    "tot_grads = tf.stack(tot_grads)\n",
    "print(tot_grads.shape)"
   ]
  },
  {
   "cell_type": "code",
   "execution_count": 36,
   "metadata": {},
   "outputs": [
    {
     "data": {
      "text/plain": [
       "<matplotlib.colorbar.Colorbar at 0x7fd0ef146b90>"
      ]
     },
     "execution_count": 36,
     "metadata": {},
     "output_type": "execute_result"
    },
    {
     "data": {
      "image/png": "[encoded data removed]",
      "text/plain": [
       "<Figure size 432x288 with 2 Axes>"
      ]
     },
     "metadata": {
      "needs_background": "light"
     },
     "output_type": "display_data"
    }
   ],
   "source": [
    "aggregated_grads = np.mean(tot_grads.numpy(),axis=0)[...,0]\n",
    "\n",
    "\n",
    "#grad_img = np.abs(tot_grads.numpy()[0, :, :, 0])\n",
    "#grad_img /= np.max(grad_img)\n",
    "plt.imshow(aggregated_grads)#,cmap='gray')\n",
    "plt.colorbar()"
   ]
  },
  {
   "cell_type": "code",
   "execution_count": null,
   "metadata": {},
   "outputs": [],
   "source": []
  }
 ],
 "metadata": {
  "kernelspec": {
   "display_name": "Python 3",
   "language": "python",
   "name": "python3"
  },
  "language_info": {
   "codemirror_mode": {
    "name": "ipython",
    "version": 3
   },
   "file_extension": ".py",
   "mimetype": "text/x-python",
   "name": "python",
   "nbconvert_exporter": "python",
   "pygments_lexer": "ipython3",
   "version": "3.8.8"
  }
 },
 "nbformat": 4,
 "nbformat_minor": 4
}
